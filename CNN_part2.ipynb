{
 "cells": [
  {
   "cell_type": "markdown",
   "metadata": {},
   "source": [
    "### Import Data"
   ]
  },
  {
   "cell_type": "code",
   "execution_count": 3,
   "metadata": {},
   "outputs": [],
   "source": [
    "#https://susanqq.github.io/UTKFace/\n",
    "import cv2\n",
    "import os\n",
    "import numpy as np\n",
    "import matplotlib.pyplot as plt\n",
    "from random import shuffle\n",
    "import face_recognition\n",
    "from PIL import Image\n",
    "\n",
    "data_path = '/Users/daniehao/Desktop/facedata'\n",
    "def load_images_from_folder(folder):\n",
    "    images = []\n",
    "    age_group=[]\n",
    "    count0 = 0\n",
    "    count2 = 0\n",
    "    count1 = 0\n",
    "    #countfile = 0\n",
    "    female = {'0':0, '1':0, '2':0}\n",
    "    male = {'0':0, '1':0, '2':0}\n",
    "    for filename in folder:\n",
    "        #if countfile>1000:\n",
    "            #break\n",
    "        #countfile+=1\n",
    "        img = image = face_recognition.load_image_file(filename)\n",
    "        face_locations = face_recognition.face_locations(img)\n",
    "        try:\n",
    "            a,b,c,d=face_locations[0]\n",
    "            crop_img = img[a:c, d:b]\n",
    "            \n",
    "        except:\n",
    "            continue\n",
    "        filename = filename.split('_')\n",
    "        temp = filename[0]\n",
    "        temp = temp.split('/')\n",
    "        try:\n",
    "            age = int(temp[-1])\n",
    "            gender_index = int(filename[1])\n",
    "        except:\n",
    "            continue\n",
    "        if crop_img is not None:\n",
    "            #crop_img = cv2.cvtColor(crop_img, cv2.COLOR_BGR2GRAY)\n",
    "            crop_img =cv2.resize(crop_img,(224,224))\n",
    "            if age<=15 and count0 <= 3500:\n",
    "                count0 += 1\n",
    "                age_group += [0]\n",
    "                images.append(crop_img)\n",
    "                if gender_index == 0:\n",
    "                    male['0'] += 1\n",
    "                else:\n",
    "                    female['0'] += 1\n",
    "            elif age > 45 and count1 <= 3500:\n",
    "                count1 += 1\n",
    "                age_group+=[2]\n",
    "                images.append(crop_img)\n",
    "                if gender_index == 0:\n",
    "                    male['2'] += 1\n",
    "                else:\n",
    "                    female['2'] += 1\n",
    "            elif age > 15 and age <= 45 and count2 <= 3500:\n",
    "                count2 += 1\n",
    "                age_group += [1]\n",
    "                images.append(crop_img)\n",
    "                if gender_index == 0:\n",
    "                    male['1'] += 1\n",
    "                else:\n",
    "                    female['1'] += 1\n",
    "    return images,age_group,female,male"
   ]
  },
  {
   "cell_type": "code",
   "execution_count": 4,
   "metadata": {},
   "outputs": [],
   "source": [
    "import os\n",
    "import random\n",
    "import sys\n",
    "dir_name=sys.argv[1]\n",
    "files = []\n",
    "img_path = []\n",
    "for filename in os.listdir(data_path):\n",
    "    files.append(filename)\n",
    "# shuffle list\n",
    "random.shuffle(files)\n",
    "for item in files:\n",
    "    img_path.append(os.path.join(data_path,item))"
   ]
  },
  {
   "cell_type": "code",
   "execution_count": 5,
   "metadata": {},
   "outputs": [],
   "source": [
    "face_data, ages, female_count, male_count=load_images_from_folder(img_path)"
   ]
  },
  {
   "cell_type": "code",
   "execution_count": 53,
   "metadata": {},
   "outputs": [
    {
     "name": "stdout",
     "output_type": "stream",
     "text": [
      "{'0': 1866, '1': 1819, '2': 1273}\n"
     ]
    }
   ],
   "source": [
    "print(female_count)"
   ]
  },
  {
   "cell_type": "code",
   "execution_count": 54,
   "metadata": {},
   "outputs": [
    {
     "name": "stdout",
     "output_type": "stream",
     "text": [
      "{'0': 1635, '1': 1682, '2': 2228}\n"
     ]
    }
   ],
   "source": [
    "print(male_count)"
   ]
  },
  {
   "cell_type": "code",
   "execution_count": 7,
   "metadata": {},
   "outputs": [],
   "source": [
    "%matplotlib qt\n",
    "labels = ['0-15', '16-45', '46-116']\n",
    "men_count = [1630, 1701, 2255]\n",
    "women_count = [1871, 1800, 1246]\n",
    "\n",
    "x = np.arange(len(labels))  # the label locations\n",
    "width = 0.35  # the width of the bars\n",
    "\n",
    "fig, ax = plt.subplots()\n",
    "rects1 = ax.bar(x - width/2, men_count, width, label='Male')\n",
    "rects2 = ax.bar(x + width/2, women_count, width, label='Female')\n",
    "\n",
    "# Add some text for labels, title and custom x-axis tick labels, etc.\n",
    "ax.set_ylabel('count')\n",
    "ax.set_xlabel('Age Group')\n",
    "ax.set_title('Distribution by age group and gender')\n",
    "ax.set_xticks(x)\n",
    "ax.set_xticklabels(labels)\n",
    "ax.legend()\n",
    "\n",
    "\n",
    "def autolabel(rects):\n",
    "    \"\"\"Attach a text label above each bar in *rects*, displaying its height.\"\"\"\n",
    "    for rect in rects:\n",
    "        height = rect.get_height()\n",
    "        ax.annotate('{}'.format(height),\n",
    "                    xy=(rect.get_x() + rect.get_width() / 2, height),\n",
    "                    xytext=(0, 3),  # 3 points vertical offset\n",
    "                    textcoords=\"offset points\",\n",
    "                    ha='center', va='bottom')\n",
    "\n",
    "\n",
    "autolabel(rects1)\n",
    "autolabel(rects2)\n",
    "plt.show(block=True)\n"
   ]
  },
  {
   "cell_type": "code",
   "execution_count": 55,
   "metadata": {},
   "outputs": [
    {
     "data": {
      "text/plain": [
       "(224, 224, 3)"
      ]
     },
     "execution_count": 55,
     "metadata": {},
     "output_type": "execute_result"
    }
   ],
   "source": [
    "face_data[0].shape"
   ]
  },
  {
   "cell_type": "code",
   "execution_count": 6,
   "metadata": {},
   "outputs": [
    {
     "data": {
      "text/plain": [
       "(10503, 224, 224, 3)"
      ]
     },
     "execution_count": 6,
     "metadata": {},
     "output_type": "execute_result"
    }
   ],
   "source": [
    "img_data = np.array(face_data)\n",
    "ages = np.array(ages)\n",
    "img_data = img_data.astype('float32')\n",
    "img_data = img_data/255\n",
    "img_data.shape"
   ]
  },
  {
   "cell_type": "code",
   "execution_count": 58,
   "metadata": {},
   "outputs": [
    {
     "data": {
      "image/png": "[encoded data removed]",
      "text/plain": [
       "<Figure size 432x288 with 1 Axes>"
      ]
     },
     "metadata": {
      "needs_background": "light"
     },
     "output_type": "display_data"
    }
   ],
   "source": [
    "import matplotlib.pyplot as plt\n",
    "from collections import Counter\n",
    "\n",
    "c = Counter(ages)\n",
    "plt.bar(c.keys(), c.values())\n",
    "plt.xticks(np.arange(3),['0-15','16-45','46-116'])\n",
    "plt.xlabel('Age')\n",
    "plt.ylabel('Count')\n",
    "plt.title(\"Age group distribution\")\n",
    "plt.show()"
   ]
  },
  {
   "cell_type": "code",
   "execution_count": 7,
   "metadata": {},
   "outputs": [
    {
     "name": "stdout",
     "output_type": "stream",
     "text": [
      "7877\n",
      "2626\n"
     ]
    }
   ],
   "source": [
    "from sklearn.model_selection import train_test_split\n",
    "import sklearn\n",
    "X_train, X_test, y_train, y_test = sklearn.model_selection.train_test_split(img_data, ages, test_size=0.25)\n",
    "\n",
    "print(len(X_train))\n",
    "print(len(X_test))"
   ]
  },
  {
   "cell_type": "code",
   "execution_count": 8,
   "metadata": {},
   "outputs": [],
   "source": [
    "from sklearn.preprocessing import label_binarize\n",
    "y_train = label_binarize(y_train, classes=[0, 1, 2])\n",
    "y_test = label_binarize(y_test, classes=[0, 1, 2])"
   ]
  },
  {
   "cell_type": "code",
   "execution_count": 61,
   "metadata": {},
   "outputs": [
    {
     "data": {
      "text/plain": [
       "(2626, 224, 224, 3)"
      ]
     },
     "execution_count": 61,
     "metadata": {},
     "output_type": "execute_result"
    }
   ],
   "source": [
    "X_test.shape"
   ]
  },
  {
   "cell_type": "code",
   "execution_count": 62,
   "metadata": {},
   "outputs": [
    {
     "data": {
      "text/plain": [
       "(7877, 224, 224, 3)"
      ]
     },
     "execution_count": 62,
     "metadata": {},
     "output_type": "execute_result"
    }
   ],
   "source": [
    "X_train.shape"
   ]
  },
  {
   "cell_type": "code",
   "execution_count": 25,
   "metadata": {},
   "outputs": [],
   "source": [
    "X_train, X_test, y_train, y_test = sklearn.model_selection.train_test_split(img_data, ages, test_size=0.25)"
   ]
  },
  {
   "cell_type": "code",
   "execution_count": 23,
   "metadata": {},
   "outputs": [],
   "source": [
    "from keras.models import Sequential\n",
    "from keras.layers import Dense, Conv2D, Dropout, Flatten, MaxPooling2D, Activation\n",
    "import time\n",
    "from keras.utils import np_utils\n",
    "import keras.callbacks as cb\n",
    "from keras.optimizers import RMSprop\n",
    "from keras import regularizers\n",
    "from keras.optimizers import SGD"
   ]
  },
  {
   "cell_type": "markdown",
   "metadata": {},
   "source": [
    "### VGG pre-trained Model"
   ]
  },
  {
   "cell_type": "code",
   "execution_count": 9,
   "metadata": {},
   "outputs": [
    {
     "name": "stderr",
     "output_type": "stream",
     "text": [
      "Using TensorFlow backend.\n"
     ]
    },
    {
     "name": "stdout",
     "output_type": "stream",
     "text": [
      "WARNING:tensorflow:From /Users/daniehao/opt/anaconda3/lib/python3.7/site-packages/keras/backend/tensorflow_backend.py:74: The name tf.get_default_graph is deprecated. Please use tf.compat.v1.get_default_graph instead.\n",
      "\n",
      "WARNING:tensorflow:From /Users/daniehao/opt/anaconda3/lib/python3.7/site-packages/keras/backend/tensorflow_backend.py:517: The name tf.placeholder is deprecated. Please use tf.compat.v1.placeholder instead.\n",
      "\n",
      "WARNING:tensorflow:From /Users/daniehao/opt/anaconda3/lib/python3.7/site-packages/keras/backend/tensorflow_backend.py:4138: The name tf.random_uniform is deprecated. Please use tf.random.uniform instead.\n",
      "\n",
      "WARNING:tensorflow:From /Users/daniehao/opt/anaconda3/lib/python3.7/site-packages/keras/backend/tensorflow_backend.py:3976: The name tf.nn.max_pool is deprecated. Please use tf.nn.max_pool2d instead.\n",
      "\n",
      "WARNING:tensorflow:From /Users/daniehao/opt/anaconda3/lib/python3.7/site-packages/keras/backend/tensorflow_backend.py:174: The name tf.get_default_session is deprecated. Please use tf.compat.v1.get_default_session instead.\n",
      "\n",
      "WARNING:tensorflow:From /Users/daniehao/opt/anaconda3/lib/python3.7/site-packages/keras/backend/tensorflow_backend.py:181: The name tf.ConfigProto is deprecated. Please use tf.compat.v1.ConfigProto instead.\n",
      "\n",
      "WARNING:tensorflow:From /Users/daniehao/opt/anaconda3/lib/python3.7/site-packages/keras/backend/tensorflow_backend.py:186: The name tf.Session is deprecated. Please use tf.compat.v1.Session instead.\n",
      "\n",
      "WARNING:tensorflow:From /Users/daniehao/opt/anaconda3/lib/python3.7/site-packages/keras/backend/tensorflow_backend.py:190: The name tf.global_variables is deprecated. Please use tf.compat.v1.global_variables instead.\n",
      "\n",
      "WARNING:tensorflow:From /Users/daniehao/opt/anaconda3/lib/python3.7/site-packages/keras/backend/tensorflow_backend.py:199: The name tf.is_variable_initialized is deprecated. Please use tf.compat.v1.is_variable_initialized instead.\n",
      "\n",
      "WARNING:tensorflow:From /Users/daniehao/opt/anaconda3/lib/python3.7/site-packages/keras/backend/tensorflow_backend.py:206: The name tf.variables_initializer is deprecated. Please use tf.compat.v1.variables_initializer instead.\n",
      "\n"
     ]
    }
   ],
   "source": [
    "from keras_vggface.vggface import VGGFace\n",
    "\n",
    "# Based on VGG16 architecture -> old paper(2015)\n",
    "vggface = VGGFace(model='vgg16')"
   ]
  },
  {
   "cell_type": "code",
   "execution_count": 10,
   "metadata": {},
   "outputs": [],
   "source": [
    "from keras.engine import  Model\n",
    "from keras.layers import Input\n",
    "from keras_vggface.vggface import VGGFace\n",
    "\n",
    "# Convolution Features\n",
    "vgg_features = VGGFace(include_top=False, input_shape=(224, 224, 3), pooling='avg')"
   ]
  },
  {
   "cell_type": "code",
   "execution_count": 11,
   "metadata": {},
   "outputs": [],
   "source": [
    "from keras.engine import  Model\n",
    "from keras.layers import Flatten, Dense, Input\n",
    "from keras_vggface.vggface import VGGFace\n",
    "\n",
    "#custom parameters\n",
    "nb_class = 3\n",
    "hidden_dim = 128\n",
    "\n",
    "vgg_model = VGGFace(include_top=False, input_shape=(224,224,3))\n",
    "last_layer = vgg_model.get_layer('pool5').output\n",
    "x = Flatten(name='flatten')(last_layer)\n",
    "x = Dense(hidden_dim, activation='relu', name='fc6')(x)\n",
    "x = Dense(hidden_dim, activation='relu', name='fc7')(x)\n",
    "out = Dense(nb_class, activation='softmax', name='fc8')(x)\n",
    "custom_vgg_model = Model(vgg_model.input, out)"
   ]
  },
  {
   "cell_type": "code",
   "execution_count": 12,
   "metadata": {},
   "outputs": [
    {
     "name": "stdout",
     "output_type": "stream",
     "text": [
      "WARNING:tensorflow:From /Users/daniehao/opt/anaconda3/lib/python3.7/site-packages/keras/optimizers.py:790: The name tf.train.Optimizer is deprecated. Please use tf.compat.v1.train.Optimizer instead.\n",
      "\n",
      "WARNING:tensorflow:From /Users/daniehao/opt/anaconda3/lib/python3.7/site-packages/keras/backend/tensorflow_backend.py:3295: The name tf.log is deprecated. Please use tf.math.log instead.\n",
      "\n",
      "WARNING:tensorflow:From /Users/daniehao/opt/anaconda3/lib/python3.7/site-packages/tensorflow_core/python/ops/math_grad.py:1424: where (from tensorflow.python.ops.array_ops) is deprecated and will be removed in a future version.\n",
      "Instructions for updating:\n",
      "Use tf.where in 2.0, which has the same broadcast rule as np.where\n",
      "WARNING:tensorflow:From /Users/daniehao/opt/anaconda3/lib/python3.7/site-packages/keras/backend/tensorflow_backend.py:986: The name tf.assign_add is deprecated. Please use tf.compat.v1.assign_add instead.\n",
      "\n",
      "WARNING:tensorflow:From /Users/daniehao/opt/anaconda3/lib/python3.7/site-packages/keras/backend/tensorflow_backend.py:973: The name tf.assign is deprecated. Please use tf.compat.v1.assign instead.\n",
      "\n",
      "Epoch 1/10\n",
      "7877/7877 [==============================] - 4993s 634ms/step - loss: 0.6531 - acc: 0.7354\n",
      "Epoch 2/10\n",
      "7877/7877 [==============================] - 4940s 627ms/step - loss: 0.3235 - acc: 0.8728\n",
      "Epoch 3/10\n",
      "7877/7877 [==============================] - 4929s 626ms/step - loss: 0.2601 - acc: 0.8979\n",
      "Epoch 4/10\n",
      "7877/7877 [==============================] - 4929s 626ms/step - loss: 0.2478 - acc: 0.9116\n",
      "Epoch 5/10\n",
      "7877/7877 [==============================] - 4931s 626ms/step - loss: 0.1666 - acc: 0.9391\n",
      "Epoch 6/10\n",
      "7877/7877 [==============================] - 4948s 628ms/step - loss: 0.1171 - acc: 0.9581\n",
      "Epoch 7/10\n",
      "7877/7877 [==============================] - 4948s 628ms/step - loss: 0.1035 - acc: 0.9636\n",
      "Epoch 8/10\n",
      "7877/7877 [==============================] - 4963s 630ms/step - loss: 0.0716 - acc: 0.9769\n",
      "Epoch 9/10\n",
      "7877/7877 [==============================] - 4984s 633ms/step - loss: 0.0605 - acc: 0.9824\n",
      "Epoch 10/10\n",
      "7877/7877 [==============================] - 5003s 635ms/step - loss: 0.0513 - acc: 0.9874\n",
      "2626/2626 [==============================] - 780s 297ms/step\n",
      "\n",
      "Network's test loss and accuracy: [0.4832101792942676, 0.8861386138613861]\n"
     ]
    }
   ],
   "source": [
    "custom_vgg_model.compile(loss = 'categorical_crossentropy', optimizer = 'sgd', metrics=['accuracy'])\n",
    "history = custom_vgg_model.fit(X_train, y_train, batch_size = 64, epochs = 10)\n",
    "score = custom_vgg_model.evaluate(X_test, y_test, verbose=1)\n",
    "print(\"\\nNetwork's test loss and accuracy: \" + format(score))"
   ]
  },
  {
   "cell_type": "code",
   "execution_count": 14,
   "metadata": {},
   "outputs": [
    {
     "name": "stdout",
     "output_type": "stream",
     "text": [
      "\n",
      "Network's train loss and accuracy: [0.006711815388158382, 0.9987304811476451]\n"
     ]
    }
   ],
   "source": [
    "score = custom_vgg_model.evaluate(X_train, y_train, verbose=1)\n",
    "print(\"\\nNetwork's train loss and accuracy: \" + format(score))"
   ]
  }
 ],
 "metadata": {
  "kernelspec": {
   "display_name": "Python 3",
   "language": "python",
   "name": "python3"
  },
  "language_info": {
   "codemirror_mode": {
    "name": "ipython",
    "version": 3
   },
   "file_extension": ".py",
   "mimetype": "text/x-python",
   "name": "python",
   "nbconvert_exporter": "python",
   "pygments_lexer": "ipython3",
   "version": "3.7.5"
  }
 },
 "nbformat": 4,
 "nbformat_minor": 2
}
